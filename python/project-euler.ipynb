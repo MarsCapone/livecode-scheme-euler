{
 "cells": [
  {
   "cell_type": "markdown",
   "metadata": {},
   "source": [
    "# Project Euler"
   ]
  },
  {
   "cell_type": "markdown",
   "metadata": {},
   "source": [
    "## Contents\n",
    "\n",
    "[Useful Functions](#Useful-Functions)\n",
    "\n",
    "1. [Multiples of 3 and 5](#Problem-1)\n",
    "2. [Even Fibonacci numbers](#Problem-2)\n",
    "3. [Largest prime factor](#Problem-3)\n",
    "4. [Largest palindrome product](#Problem-4)\n",
    "5. [Smallest multiple](#Problem-5)\n",
    "6. [Sum square difference](#Problem-6)\n",
    "7. [10001st prime](#Problem-7)\n",
    "8. [Largest product in a series](#Problem-8)\n",
    "9. [Special Pythagorean triplet](#Problem-9)\n",
    "10. [Summation of primes](#Problem-10)\n",
    "11. [Largest product in a grid](#Problem-11)\n",
    "12. [Highly divisible triangular number](#Problem-12)\n",
    "13. [Large sum](#Problem-13)\n",
    "14. [Longest Collatz sequence](#Problem-14)\n",
    "15. [Lattice paths](#Problem-15)\n",
    "16. [Power digit sum](#Problem-16)\n",
    "17. [Number letter counts](#Problem-17)\n",
    "18. [Maximum path sum I](#Problem-18)\n",
    "19. [Counting Sundays](#Problem-19)\n",
    "20. [Factorial digit sum](#Problem-20)\n",
    "21. [Amicable numbers](#Problem-21)\n",
    "22. [Names scores](#Problem-22)\n",
    "23. [Non-abundant sums](#Problem-23)\n",
    "24. [Lexicographic permutations](#Problem-24)\n",
    "25. [1000-digit Fibonacci number](#Problem-25)\n",
    "26. [Reciprocal cycles](#Problem-26)\n",
    "27. [Quadratic primes](#Problem-27)\n",
    "28. [Number spiral diagonals](#Problem-28)  \n",
    "29. [Distinct powers](#Problem-29)\n",
    "30. [Problem 30](#Problem-30)\n",
    "31. [Problem 31](#Problem-31)\n",
    "32. [Problem 32](#Problem-32)\n",
    "33. [Problem 33](#Problem-33)\n",
    "34. [Problem 34](#Problem-34)\n",
    "35. [Circular primes](#Problem-35)\n",
    "36. [Double-base palindromes](#Problem-36)\n",
    "37. [Truncatable primes](#Problem-37)\n",
    "38. [Pandigital multiples](#Problem-38)\n",
    "39. [Integer right triangles](#Problem-39)\n",
    "40. [Champernowne's constant](#Problem-40)\n",
    "41. [Pandigital prime](#Problem-41)\n",
    "42. [Coded triangle numbers](#Problem-42)\n",
    "43. [Sub-string divisibility](#Problem-43)\n",
    "44. [Pentagon numbers](#Problem-44)\n",
    "45. [Triangular, pentagonal, and hexagonal](#Problem-45)\n",
    "46. [Goldbach's other conjecture](#Problem-46)\n",
    "47. [Distinct primes factors](#Problem-47)\n",
    "48. [Self powers](#Problem-48)\n",
    "49. [Prime permutations](#Problem-49)\n",
    "50. [Consecutive prime sum](#Problem-50)\n",
    "\n",
    "<!--\n",
    "51. [Prime digit replacements](#Problem-51)\n",
    "52. [Permuted multiples](#Problem-52)\n",
    "53. [Combinatoric selections](#Problem-53)\n",
    "54. [Poker hands](#Problem-54)\n",
    "55. [Lychrel numbers](#Problem-55)\n",
    "56. [Powerful digit sum](#Problem-56)\n",
    "57. [Square root convergents](#Problem-57)\n",
    "58. [Spiral primes](#Problem-58)\n",
    "59. [XOR decryption](#Problem-59)\n",
    "60. [Prime pair sets](#Problem-60)\n",
    "61. [Cyclical figurate numbers](#Problem-61)\n",
    "62. [Cubic permutations](#Problem-62)\n",
    "63. [Powerful digit counts](#Problem-63)\n",
    "64. [Odd period square roots](#Problem-64)\n",
    "65. [Convergents of e](#Problem-65)\n",
    "66. [Diophantine equation](#Problem-66)\n",
    "-->\n",
    "\n",
    "\\67. [Maximum path sum II](#Problem-67)\n",
    "\n",
    "<!--\n",
    "68. [Magic 5-gon ring](#Problem-68)\n",
    "69. [Totient maximum](#Problem-69)\n",
    "70. [Totient permutation](#Problem-70)\n",
    "71. [Ordered fractions](#Problem-71)\n",
    "72. [Counting fractions](#Problem-72)\n",
    "73. [Counting fractions in a range](#Problem-73)\n",
    "74. [Digit factorial chains](#Problem-74)\n",
    "75. [Singular integer right triangles](#Problem-75)\n",
    "76. [Counting summations](#Problem-76)\n",
    "77. [Prime summations](#Problem-77)\n",
    "78. [Coin partitions](#Problem-78)\n",
    "79. [Passcode derivation](#Problem-79)\n",
    "80. [Square root digital expansion](#Problem-80)\n",
    "81. [Path sum: two ways](#Problem-81)\n",
    "82. [Path sum: three ways](#Problem-82)\n",
    "83. [Path sum: four ways](#Problem-83)\n",
    "84. [Monopoly odds](#Problem-84)\n",
    "85. [Counting rectangles](#Problem-85)\n",
    "86. [Cuboid route](#Problem-86)\n",
    "87. [Prime power triples](#Problem-87)\n",
    "88. [Product-sum numbers](#Problem-88)\n",
    "89. [Roman numerals](#Problem-89)\n",
    "90. [Cube digit pairs](#Problem-90)\n",
    "91. [Right triangles with integer coordinates](#Problem-91)\n",
    "92. [Square digit chains](#Problem-92)\n",
    "93. [Arithmetic expressions](#Problem-93)\n",
    "94. [Almost equilateral triangles](#Problem-94)\n",
    "95. [Amicable chains](#Problem-95)\n",
    "96. [Su Doku](#Problem-96)\n",
    "97. [Large non-Mersenne prime](#Problem-97)\n",
    "98. [Anagramic squares](#Problem-98)\n",
    "99. [Largest exponential](#Problem-99)\n",
    "100. [Arranged probability](#Problem-100)\n",
    "101. [Optimum polynomial](#Problem-101)\n",
    "102. [Triangle containment](#Problem-102)\n",
    "103. [Special subset sums: optimum](#Problem-103)\n",
    "104. [Pandigital Fibonacci ends](#Problem-104)\n",
    "105. [Special subset sums: testing](#Problem-105)\n",
    "106. [Special subset sums: meta-testing](#Problem-106)\n",
    "107. [Minimal network](#Problem-107)\n",
    "108. [Diophantine reciprocals I](#Problem-108)\n",
    "109. [Darts](#Problem-109)\n",
    "110. [Diophantine reciprocals II](#Problem-110)\n",
    "111. [Primes with runs](#Problem-111)\n",
    "112. [Bouncy numbers](#Problem-112)\n",
    "113. [Non-bouncy numbers](#Problem-113)\n",
    "114. [Counting block combinations I](#Problem-114)\n",
    "115. [Counting block combinations II](#Problem-115)\n",
    "116. [Red, green or blue tiles](#Problem-116)\n",
    "117. [Red, green, and blue tiles](#Problem-117)\n",
    "118. [Pandigital prime sets](#Problem-118)\n",
    "119. [Digit power sum](#Problem-119)\n",
    "120. [Square remainders](#Problem-120)\n",
    "121. [Disc game prize fund](#Problem-121)\n",
    "122. [Efficient exponentiation](#Problem-122)\n",
    "123. [Prime square remainders](#Problem-123)\n",
    "124. [Ordered radicals](#Problem-124)\n",
    "125. [Palindromic sums](#Problem-125)\n",
    "126. [Cuboid layers](#Problem-126)\n",
    "127. [abc-hits](#Problem-127)\n",
    "128. [Hexagonal tile differences](#Problem-128)\n",
    "129. [Repunit divisibility](#Problem-129)\n",
    "130. [Composites with prime repunit property](#Problem-130)\n",
    "131. [Prime cube partnership](#Problem-131)\n",
    "132. [Large repunit factors](#Problem-132)\n",
    "133. [Repunit nonfactors](#Problem-133)\n",
    "134. [Prime pair connection](#Problem-134)\n",
    "135. [Same differences](#Problem-135)\n",
    "136. [Singleton difference](#Problem-136)\n",
    "137. [Fibonacci golden nuggets](#Problem-137)\n",
    "138. [Special isosceles triangles](#Problem-138)\n",
    "139. [Pythagorean tiles](#Problem-139)\n",
    "140. [Modified Fibonacci golden nuggets](#Problem-140)\n",
    "141. [Investigating progressive numbers, n, which are also square](#Problem-141)\n",
    "142. [Perfect Square Collection](#Problem-142)\n",
    "143. [Investigating the Torricelli point of a triangle](#Problem-143)\n",
    "144. [Investigating multiple reflections of a laser beam](#Problem-144)\n",
    "145. [How many reversible numbers are there below one-billion?](#Problem-145)\n",
    "146. [Investigating a Prime Pattern ](#Problem-146)\n",
    "147. [Rectangles in cross-hatched grids](#Problem-147)\n",
    "148. [Exploring Pascal's triangle](#Problem-148)\n",
    "149. [Searching for a maximum-sum subsequence](#Problem-149)\n",
    "150. [Searching a triangular array for a sub-triangle having minimum-sum](#Problem-150)\n",
    "-->"
   ]
  },
  {
   "cell_type": "markdown",
   "metadata": {},
   "source": [
    "## Useful Functions"
   ]
  },
  {
   "cell_type": "code",
   "execution_count": 1,
   "metadata": {
    "collapsed": false
   },
   "outputs": [],
   "source": [
    "def is_prime(n):\n",
    "    if n == 1: return False\n",
    "    if n < 4: return True \n",
    "    if n % 2 == 0: return False\n",
    "    if n < 9: return True # excluded 4, 6, 8 already\n",
    "    if n % 3 == 0: return False\n",
    "    i = 5\n",
    "    while i < n**(0.5) + 1:\n",
    "        if n % i == 0:\n",
    "            return False\n",
    "        if n % (i + 2) == 0:\n",
    "            return False\n",
    "        i += 6\n",
    "    return True\n",
    "\n",
    "def fibonacci():\n",
    "    a, b = 0, 1\n",
    "    while 1:\n",
    "        yield a\n",
    "        a, b = b, a + b\n",
    "        \n",
    "def triangular():\n",
    "    current = 1\n",
    "    counter = 2\n",
    "    while 1:\n",
    "        yield current\n",
    "        current += counter\n",
    "        counter += 1\n",
    "\n",
    "def collatz(start):\n",
    "    current = start\n",
    "    while 1:\n",
    "        yield current\n",
    "        if current == 1:\n",
    "            break\n",
    "        if current % 2 == 0:\n",
    "            current /= 2\n",
    "        else:\n",
    "            current = 3 * current + 1\n",
    "        \n",
    "def factors(n):    \n",
    "    result = []\n",
    "    for i in range(1, int(n ** 0.5) + 1):\n",
    "        div, mod = divmod(n, i)\n",
    "        if mod == 0:\n",
    "            result.extend([i, div])\n",
    "    return result\n",
    "\n",
    "def pfactors(n):\n",
    "    i = 2\n",
    "    factors = []\n",
    "    while i * i <= n:\n",
    "        if n % i:\n",
    "            i += 1\n",
    "        else:\n",
    "            n //= i\n",
    "            factors.append(i)\n",
    "    if n > 1:\n",
    "        factors.append(n)\n",
    "    return factors\n",
    "\n",
    "\n",
    "def is_palindrome(n):\n",
    "    n = str(n)\n",
    "    return n == n[::-1]\n",
    "\n",
    "from math import gcd\n",
    "\n",
    "def lcm(a, b):\n",
    "    return a * b // gcd(a, b)\n",
    "\n",
    "def erat_sieve(m):\n",
    "    primes = [True] * m\n",
    "    primes[0] = primes[1] = False\n",
    "    for i in range(2, m + 1):\n",
    "        for l in range(2, (m // i) + 1):\n",
    "            try:\n",
    "                primes[i * l] = False\n",
    "            except IndexError: pass\n",
    "    return [a for a, b in enumerate(primes) if b]\n",
    "\n",
    "def factorial(n):\n",
    "    acc = 1\n",
    "    while n > 1:\n",
    "        acc *= n\n",
    "        n -= 1\n",
    "    return acc\n",
    "\n",
    "def d(n):\n",
    "    return sum(set(factors(n))) - n\n",
    "\n",
    "def is_pandigital(n):\n",
    "    n = str(n)\n",
    "    for i in range(len(n)):\n",
    "        if n.find(str(i + 1)) == -1:\n",
    "            return False\n",
    "    return True\n",
    "\n",
    "def is_triangular(x):\n",
    "    n = (pow(1 + 8 * x, 0.5) - 1) / 2.0\n",
    "    d, r = divmod(n, 1)\n",
    "    return not bool(r)\n",
    "\n",
    "def is_pentagonal(x):\n",
    "    n = (pow(1 + 24 * x, 0.5) + 1) / 6.0\n",
    "    d, r = divmod(n, 1)\n",
    "    return not bool(r)\n"
   ]
  },
  {
   "cell_type": "markdown",
   "metadata": {},
   "source": [
    "## Problem 1\n",
    "### Multiples of 3 and 5\n",
    "\n",
    "If we list all the natural numbers below 10 that are multiples of 3 or 5, we get 3, 5, 6 and 9. The sum of these multiples is 23.\n",
    "\n",
    "Find the sum of all the multiples of 3 or 5 below 1000."
   ]
  },
  {
   "cell_type": "code",
   "execution_count": 9,
   "metadata": {
    "collapsed": false
   },
   "outputs": [
    {
     "name": "stdout",
     "output_type": "stream",
     "text": [
      "233168\n"
     ]
    }
   ],
   "source": [
    "def multiples(max_n, a, b):\n",
    "    s = 0\n",
    "    for i in range(1, max_n):\n",
    "        if i % a == 0 or i % b == 0:\n",
    "            s += i\n",
    "    return s\n",
    "\n",
    "print(multiples(1000, 3, 5))\n",
    "    "
   ]
  },
  {
   "cell_type": "markdown",
   "metadata": {},
   "source": [
    "## Problem 2\n",
    "### Even Fibonacci numbers\n",
    "\n",
    "Each new term in the Fibonacci sequence is generated by adding the previous two terms. By starting with 1 and 2, the first 10 terms will be:\n",
    "\n",
    "1, 2, 3, 5, 8, 13, 21, 34, 55, 89, ...\n",
    "\n",
    "By considering the terms in the Fibonacci sequence whose values do not exceed four million, find the sum of the even-valued terms."
   ]
  },
  {
   "cell_type": "code",
   "execution_count": 10,
   "metadata": {
    "collapsed": false
   },
   "outputs": [
    {
     "name": "stdout",
     "output_type": "stream",
     "text": [
      "4613732\n"
     ]
    }
   ],
   "source": [
    "def even_fibonacci(max_term):\n",
    "    f = fibonacci()\n",
    "    current = 0\n",
    "    total = 0\n",
    "    while current < max_term:\n",
    "        current = next(f)\n",
    "        if current % 2 == 0:\n",
    "            total += current\n",
    "    return total\n",
    "\n",
    "print(even_fibonacci(4000000))"
   ]
  },
  {
   "cell_type": "markdown",
   "metadata": {},
   "source": [
    "## Problem 3\n",
    "### Largest prime factor\n",
    "\n",
    "The prime factors of 13195 are 5, 7, 13 and 29.\n",
    "\n",
    "What is the largest prime factor of the number `600851475143` ?"
   ]
  },
  {
   "cell_type": "code",
   "execution_count": 11,
   "metadata": {
    "collapsed": false
   },
   "outputs": [
    {
     "name": "stdout",
     "output_type": "stream",
     "text": [
      "6857\n"
     ]
    }
   ],
   "source": [
    "def largest_prime_factor(n):\n",
    "    return max(pfactors(n))\n",
    "\n",
    "print(largest_prime_factor(600851475143))"
   ]
  },
  {
   "cell_type": "markdown",
   "metadata": {},
   "source": [
    "## Problem 4\n",
    "### Largest palindrome product\n",
    "\n",
    "A palindromic number reads the same both ways. The largest palindrome made from the product of two 2-digit numbers is 9009 = 91 × 99.\n",
    "\n",
    "Find the largest palindrome made from the product of two 3-digit numbers."
   ]
  },
  {
   "cell_type": "markdown",
   "metadata": {},
   "source": [
    "#### Some thoughts on strategy\n",
    "\n",
    "Palindrome `P = ab`, where `a` and `b` are the two 3-digit numbers (which much be between 100 and 999).\n",
    "\n",
    "Since P is palindromic, it can be represented as `xyzzyx`.\n",
    "\n",
    "$$\n",
    "P=100000x + 10000y + 1000z + 100z + 10y + x\n",
    "$$\n",
    "\n",
    "$$\n",
    "P=100001x + 10010y + 1100z\n",
    "$$\n",
    "\n",
    "$$\n",
    "P=11(9091x + 910y + 100z) = ab\n",
    "$$\n",
    "\n",
    "Since 11 is prime, either a or b muct have a factor or 11. "
   ]
  },
  {
   "cell_type": "code",
   "execution_count": 12,
   "metadata": {
    "collapsed": false
   },
   "outputs": [
    {
     "name": "stdout",
     "output_type": "stream",
     "text": [
      "906609\n"
     ]
    }
   ],
   "source": [
    "def largest_palindrome_product():\n",
    "    largest_palindrome = 0\n",
    "    a = 999\n",
    "    while a >= 100:\n",
    "        if a % 11 == 0:\n",
    "            b = 999\n",
    "            db = 1\n",
    "        else:\n",
    "            b = 990\n",
    "            db = 11\n",
    "        while b >= a:\n",
    "            if a * b <= largest_palindrome:\n",
    "                break\n",
    "            \n",
    "            if is_palindrome(a * b):\n",
    "                largest_palindrome = a * b\n",
    "    \n",
    "            b -= db\n",
    "        a -= 1\n",
    "    return largest_palindrome\n",
    "\n",
    "print(largest_palindrome_product())"
   ]
  },
  {
   "cell_type": "markdown",
   "metadata": {},
   "source": [
    "## Problem 5\n",
    "### Smallest multiple\n",
    "\n",
    "2520 is the smallest number that can be divided by each of the numbers from 1 to 10 without any remainder.\n",
    "\n",
    "What is the smallest positive number that is evenly divisible by all of the numbers from 1 to 20?"
   ]
  },
  {
   "cell_type": "code",
   "execution_count": 13,
   "metadata": {
    "collapsed": false
   },
   "outputs": [
    {
     "name": "stdout",
     "output_type": "stream",
     "text": [
      "232792560\n"
     ]
    }
   ],
   "source": [
    "from functools import reduce\n",
    "\n",
    "def smallest_multiple(start, end):\n",
    "    numbers = range(start, end + 1)\n",
    "    return reduce(lcm, numbers)\n",
    "\n",
    "print(smallest_multiple(1, 20))\n",
    "    "
   ]
  },
  {
   "cell_type": "markdown",
   "metadata": {},
   "source": [
    "## Problem 6\n",
    "### Sum square difference\n",
    "\n",
    "The sum of the squares of the first ten natural numbers is,\n",
    "\n",
    "$$\n",
    "1^2 + 2^2 + ... + 10^2 = 385\n",
    "$$\n",
    "\n",
    "The square of the sum of the first ten natural numbers is,\n",
    "$$\n",
    "(1 + 2 + ... + 10)^2 = 552 = 3025\n",
    "$$\n",
    "Hence the difference between the sum of the squares of the first ten natural numbers and the square of the sum is $3025 − 385 = 2640$.\n",
    "\n",
    "Find the difference between the sum of the squares of the first one hundred natural numbers and the square of the sum.\n"
   ]
  },
  {
   "cell_type": "code",
   "execution_count": 14,
   "metadata": {
    "collapsed": false
   },
   "outputs": [
    {
     "name": "stdout",
     "output_type": "stream",
     "text": [
      "25164150\n"
     ]
    }
   ],
   "source": [
    "def square_sum(l):\n",
    "    return sum(l) ** 2\n",
    "\n",
    "def sum_square(l):\n",
    "    return sum(x*x for x in l)\n",
    "\n",
    "def sum_square_difference(n):\n",
    "    numbers = range(1, n + 1)\n",
    "    return abs(square_sum(numbers) - sum_square(numbers))\n",
    "\n",
    "print(sum_square_difference(100))"
   ]
  },
  {
   "cell_type": "markdown",
   "metadata": {},
   "source": [
    "## Problem 7\n",
    "### 10001st prime\n",
    "\n",
    "By listing the first six prime numbers: 2, 3, 5, 7, 11, and 13, we can see that the 6th prime is 13.\n",
    "\n",
    "What is the 10 001st prime number?"
   ]
  },
  {
   "cell_type": "code",
   "execution_count": 15,
   "metadata": {
    "collapsed": false
   },
   "outputs": [
    {
     "name": "stdout",
     "output_type": "stream",
     "text": [
      "104743\n"
     ]
    }
   ],
   "source": [
    "def nth_prime(n):\n",
    "    count = 1\n",
    "    current = 3\n",
    "    while 1:\n",
    "        if is_prime(current):\n",
    "            count += 1\n",
    "            if count == n:\n",
    "                return current\n",
    "        current += 2\n",
    "\n",
    "print(nth_prime(10001))"
   ]
  },
  {
   "cell_type": "markdown",
   "metadata": {},
   "source": [
    "## Problem 8\n",
    "### Largest product in a series\n",
    "\n",
    "The four adjacent digits in the 1000-digit number that have the greatest product are 9 × 9 × 8 × 9 = 5832.\n",
    "\n",
    "Find the thirteen adjacent digits in the 1000-digit number that have the greatest product. What is the value of this product?"
   ]
  },
  {
   "cell_type": "code",
   "execution_count": 46,
   "metadata": {
    "collapsed": false
   },
   "outputs": [
    {
     "name": "stdout",
     "output_type": "stream",
     "text": [
      "23514624000\n"
     ]
    }
   ],
   "source": [
    "\n",
    "def largest_series_product(fname):\n",
    "    with open(fname) as f:\n",
    "        thousand_digit_number = f.read()\n",
    "    tdn = ''.join(thousand_digit_number.split('\\n'))\n",
    "    mul = lambda x, y: int(x) * int(y)\n",
    "    return max(reduce(mul, tdn[i:i+13]) for i in range(len(tdn)-13+1))\n",
    "\n",
    "print(largest_series_product('p008_thousand_digits.txt'))\n"
   ]
  },
  {
   "cell_type": "markdown",
   "metadata": {},
   "source": [
    "## Problem 9\n",
    "### Special Pythagorean triplet\n",
    "\n",
    "A Pythagorean triplet is a set of three natural numbers, $a < b < c$, for which,\n",
    "\n",
    "$$\n",
    "a^2 + b^2 = c^2\n",
    "$$\n",
    "\n",
    "For example, $3^2 + 4^2 = 9 + 16 = 25 = 5^2$.\n",
    "\n",
    "There exists exactly one Pythagorean triplet for which $a + b + c = 1000$.\n",
    "Find the product $abc$."
   ]
  },
  {
   "cell_type": "code",
   "execution_count": 17,
   "metadata": {
    "collapsed": false
   },
   "outputs": [
    {
     "name": "stdout",
     "output_type": "stream",
     "text": [
      "31875000\n"
     ]
    }
   ],
   "source": [
    "def special_pythagorean_triplet(n):\n",
    "    for i in range(1, n):\n",
    "        for j in range(1, n - i):\n",
    "            if i + j > 1000:\n",
    "                continue\n",
    "            k = n - i - j\n",
    "            if i ** 2 + j ** 2 == k ** 2:\n",
    "                return i * j * k\n",
    "    return None\n",
    "\n",
    "print(special_pythagorean_triplet(1000))"
   ]
  },
  {
   "cell_type": "markdown",
   "metadata": {},
   "source": [
    "## Problem 10\n",
    "### Summation of primes\n",
    "\n",
    "The sum of the primes below 10 is 2 + 3 + 5 + 7 = 17.\n",
    "\n",
    "Find the sum of all the primes below two million."
   ]
  },
  {
   "cell_type": "code",
   "execution_count": 18,
   "metadata": {
    "collapsed": false
   },
   "outputs": [
    {
     "name": "stdout",
     "output_type": "stream",
     "text": [
      "142913828922\n"
     ]
    }
   ],
   "source": [
    "def prime_summation(n):\n",
    "    return sum(erat_sieve(n))\n",
    "\n",
    "print(prime_summation(2000000))"
   ]
  },
  {
   "cell_type": "markdown",
   "metadata": {},
   "source": [
    "## Problem 11\n",
    "### Largest product in a grid\n",
    "\n",
    "In the 20×20 grid below, four numbers along a diagonal line have been marked in red.\n",
    "\n",
    "The product of these numbers is 26 × 63 × 78 × 14 = 1788696.\n",
    "\n",
    "What is the greatest product of four adjacent numbers in the same direction (up, down, left, right, or diagonally) in the 20×20 grid?"
   ]
  },
  {
   "cell_type": "code",
   "execution_count": 48,
   "metadata": {
    "collapsed": false
   },
   "outputs": [
    {
     "name": "stdout",
     "output_type": "stream",
     "text": [
      "70600674\n"
     ]
    }
   ],
   "source": [
    "def largest_grid_product(grid, adjacents):\n",
    "    grid = [[int(i) for i in row.split()] for row in grid.split('\\n')]\n",
    "    m = 0\n",
    "    product = lambda sl: reduce(lambda a, b: a * b, sl)\n",
    "    for i in range(len(grid) - adjacents + 1):\n",
    "        for j in range(len(grid) - adjacents + 1):\n",
    "            m = max(m, product(grid[i][j:j+adjacents]))\n",
    "            m = max(m, product([c[j] for c in grid[i:i+adjacents]]))\n",
    "            \n",
    "            rdiagonal_product = 1\n",
    "            for adj in range(adjacents):\n",
    "                rdiagonal_product *= grid[i+adj][j+adj]\n",
    "            m = max(m, rdiagonal_product)\n",
    "            \n",
    "            if j >= 3 and i <= 17:\n",
    "                ldiagonal_product = 1\n",
    "                for adj in range(adjacents):\n",
    "                    ldiagonal_product *= grid[i+adj][j-adj]\n",
    "                m = max(m, ldiagonal_product)\n",
    "    return m\n",
    "\n",
    "with open('p011_grid.txt') as f:\n",
    "    print(largest_grid_product(f.read(), 4))"
   ]
  },
  {
   "cell_type": "markdown",
   "metadata": {},
   "source": [
    "## Problem 12\n",
    "### Highly divisible triangular number\n",
    "\n",
    "The sequence of triangle numbers is generated by adding the natural numbers. So the 7th triangle number would be 1 + 2 + 3 + 4 + 5 + 6 + 7 = 28. The first ten terms would be:\n",
    "\n",
    "1, 3, 6, 10, 15, 21, 28, 36, 45, 55, ...\n",
    "\n",
    "Let us list the factors of the first seven triangle numbers:\n",
    "\n",
    "     1: 1\n",
    "     3: 1,3\n",
    "     6: 1,2,3,6\n",
    "    10: 1,2,5,10\n",
    "    15: 1,3,5,15\n",
    "    21: 1,3,7,21\n",
    "    28: 1,2,4,7,14,28\n",
    "\n",
    "We can see that 28 is the first triangle number to have over five divisors.\n",
    "\n",
    "What is the value of the first triangle number to have over five hundred divisors?"
   ]
  },
  {
   "cell_type": "code",
   "execution_count": 20,
   "metadata": {
    "collapsed": false
   },
   "outputs": [
    {
     "name": "stdout",
     "output_type": "stream",
     "text": [
      "76576500\n"
     ]
    }
   ],
   "source": [
    "def divisible_triangular(divisor_count):\n",
    "    t = triangular()\n",
    "    current = 1\n",
    "    while len(factors(current)) < divisor_count:\n",
    "        current = next(t)\n",
    "    return current\n",
    "\n",
    "print(divisible_triangular(500))"
   ]
  },
  {
   "cell_type": "markdown",
   "metadata": {},
   "source": [
    "## Problem 13\n",
    "### Large sum\n",
    "\n",
    "Work out the first ten digits of the following one-hundred 50-digit numbers."
   ]
  },
  {
   "cell_type": "code",
   "execution_count": 50,
   "metadata": {
    "collapsed": false
   },
   "outputs": [
    {
     "name": "stdout",
     "output_type": "stream",
     "text": [
      "5537376230\n"
     ]
    }
   ],
   "source": [
    "def large_sum():\n",
    "    with open('p013_numbers.txt') as f:\n",
    "        hundred_50digit_numbers = f.read()\n",
    "    numbers = [int(n) for n in hundred_50digit_numbers.split('\\n')]\n",
    "    number_sum = sum(numbers)\n",
    "    return str(number_sum)[:10]\n",
    "\n",
    "print(large_sum())"
   ]
  },
  {
   "cell_type": "markdown",
   "metadata": {},
   "source": [
    "## Problem 14\n",
    "### Longest Collat sequence\n",
    "\n",
    "The following iterative sequence is defined for the set of positive integers:\n",
    "\n",
    "n → n/2 (n is even)\n",
    "\n",
    "n → 3n + 1 (n is odd)\n",
    "\n",
    "Using the rule above and starting with 13, we generate the following sequence:\n",
    "\n",
    "13 → 40 → 20 → 10 → 5 → 16 → 8 → 4 → 2 → 1\n",
    "\n",
    "It can be seen that this sequence (starting at 13 and finishing at 1) contains 10 terms. Although it has not been proved yet (Collatz Problem), it is thought that all starting numbers finish at 1.\n",
    "\n",
    "Which starting number, under one million, produces the longest chain?\n",
    "\n",
    "*NOTE: Once the chain starts the terms are allowed to go above one million.*\n"
   ]
  },
  {
   "cell_type": "code",
   "execution_count": 22,
   "metadata": {
    "collapsed": false
   },
   "outputs": [
    {
     "name": "stdout",
     "output_type": "stream",
     "text": [
      "837799\n"
     ]
    }
   ],
   "source": [
    "def collatz_length(start):\n",
    "    return len(list(collatz(start)))\n",
    "\n",
    "def longest_collatz(max_starting):\n",
    "    previous = {}\n",
    "    highest, chainlen = 0, 0\n",
    "    for s in range(max_starting, 0, -1):\n",
    "        chln = collatz_length(s)\n",
    "        if chln > chainlen:\n",
    "            highest, chainlen = s, chln\n",
    "    return highest\n",
    "    \n",
    "print(longest_collatz(1000000))"
   ]
  },
  {
   "cell_type": "markdown",
   "metadata": {},
   "source": [
    "## Problem 15\n",
    "### Lattice paths\n",
    "\n",
    "Starting in the top left corner of a 2×2 grid, and only being able to move to the right and down, there are exactly 6 routes to the bottom right corner.\n",
    "\n",
    "![lattice-image](https://projecteuler.net/project/images/p015.gif)\n",
    "\n",
    "How many such routes are there through a 20×20 grid?\n",
    "\n",
    "#### Strategy planning\n",
    "\n",
    "    a - b - c - d\n",
    "    |   |   |   | \n",
    "    e - f - g - h\n",
    "    |   |   |   |\n",
    "    i - j - k - l\n",
    "    |   |   |   |\n",
    "    m - n - o - p\n",
    "\n",
    "A smaller problem is the number of routes from `a` to `p`. We already know that the number of routes from `f` to `p` is 6.\n",
    "\n",
    "At each point we can work out the number of routes to `p`.\n",
    "\n",
    "    20 - 10 - 4 - 1\n",
    "    |   |   |   | \n",
    "    10 - 6 - 3 - 1\n",
    "    |   |   |   |\n",
    "    4 - 3 - 2 - 1\n",
    "    |   |   |   |\n",
    "    1 - 1 - 1 - 0\n",
    "\n",
    "You can see that at any point the number of routes is the sum of the number of routes for below and right. This isn't too difficult to program."
   ]
  },
  {
   "cell_type": "code",
   "execution_count": 23,
   "metadata": {
    "collapsed": false
   },
   "outputs": [
    {
     "name": "stdout",
     "output_type": "stream",
     "text": [
      "137846528820\n"
     ]
    }
   ],
   "source": [
    "def lattice_paths(size):\n",
    "    size += 1\n",
    "    grid = [[None] * size for i in range(size)]\n",
    "    \n",
    "    # setup the grid \n",
    "    grid[0][0] = 0 \n",
    "    for i in range(1, size):\n",
    "        grid[0][i] = 1\n",
    "        grid[i][0] = 1\n",
    "    \n",
    "    # populate the grid\n",
    "    for r in range(1, size):\n",
    "        for c in range(1, size):\n",
    "            grid[r][c] = grid[r-1][c] + grid[r][c-1]\n",
    "    \n",
    "    # find the value in the other corner\n",
    "    return grid[size-1][size-1]\n",
    "\n",
    "print(lattice_paths(20))"
   ]
  },
  {
   "cell_type": "markdown",
   "metadata": {},
   "source": [
    "## Problem 16\n",
    "### Power digit sum\n",
    "\n",
    "$2^{15} = 32768$ and the sum of its digits is $3 + 2 + 7 + 6 + 8 = 26$.\n",
    "\n",
    "What is the sum of the digits of the number $2^{1000}$?"
   ]
  },
  {
   "cell_type": "code",
   "execution_count": 24,
   "metadata": {
    "collapsed": false
   },
   "outputs": [
    {
     "name": "stdout",
     "output_type": "stream",
     "text": [
      "1366\n"
     ]
    }
   ],
   "source": [
    "def power_digit_sum(base, power):\n",
    "    return sum(map(int, list(str(base ** power))))\n",
    "\n",
    "print(power_digit_sum(2, 1000))"
   ]
  },
  {
   "cell_type": "markdown",
   "metadata": {},
   "source": [
    "## Problem 17\n",
    "### Number letter counts\n",
    "\n",
    "If the numbers 1 to 5 are written out in words: one, two, three, four, five, then there are 3 + 3 + 5 + 4 + 4 = 19 letters used in total.\n",
    "\n",
    "If all the numbers from 1 to 1000 (one thousand) inclusive were written out in words, how many letters would be used?\n",
    "\n",
    "*NOTE: Do not count spaces or hyphens. For example, 342 (three hundred and forty-two) contains 23 letters and 115 (one hundred and fifteen) contains 20 letters. The use of \"and\" when writing out numbers is in compliance with British usage.*"
   ]
  },
  {
   "cell_type": "code",
   "execution_count": 25,
   "metadata": {
    "collapsed": false
   },
   "outputs": [
    {
     "name": "stdout",
     "output_type": "stream",
     "text": [
      "21124\n"
     ]
    }
   ],
   "source": [
    "def number_letter_counts(start, end):\n",
    "    words = {\n",
    "        0: '', 1: 'one', 2: 'two', 3: 'three', 4: 'four',\n",
    "        5: 'five', 6: 'six', 7: 'seven', 8: 'eight', 9: 'nine',\n",
    "        10: 'ten', 11: 'eleven', 12: 'twelve', 13: 'thirteen', \n",
    "        14: 'fourteen', 15: 'fifteen', 16: 'sixteen', \n",
    "        17: 'seventeen', 18: 'eighteen', 19: 'nineteen', \n",
    "        20: 'twenty', 30: 'thirty', 40: 'forty', 50: 'fifty',\n",
    "        60: 'sixty', 70: 'seventy', 80: 'eighty', 90: 'ninety',\n",
    "        1000: 'onethousand', '00': 'hundred', '&': 'and'\n",
    "    }\n",
    "    \n",
    "    def number_count(n):\n",
    "        ncount = words.get(n)\n",
    "        if ncount: \n",
    "            #print('{n: <6} {w: <30} {c}'.format(n=n, w=ncount, \n",
    "            #                                    c=len(ncount)))\n",
    "            return len(ncount)\n",
    "        else:\n",
    "            count = ''\n",
    "            h, rem = divmod(n, 100)\n",
    "            if n >= 100:\n",
    "                count += words.get(h) + words.get('00')\n",
    "                if rem == 0:\n",
    "                    #print('{n: <6} {w: <30} {c}'.format(n=n, w=count, c=len(count)))\n",
    "                    return len(count)\n",
    "                elif rem <= 20 or rem % 10 == 0:\n",
    "                    count += words.get('&') + words.get(rem)\n",
    "                else:\n",
    "                    t, u = divmod(rem, 10)\n",
    "                    t = int(str(t) + '0')\n",
    "                    count += words.get('&') + words.get(t)\n",
    "                    count += words.get(u)\n",
    "            else:\n",
    "                if n <= 20 or n % 10 == 0:\n",
    "                    count += words.get(n)\n",
    "                else:\n",
    "                    t, u = divmod(n, 10)\n",
    "                    t = int(str(t) + '0')\n",
    "                    count += words.get(t) + words.get(u)\n",
    "            #print('{n: <6} {w: <30} {c}'.format(n=n, w=count, c=len(count)))\n",
    "            return len(count)\n",
    "\n",
    "    total = 0\n",
    "    for i in range(start, end + 1):\n",
    "        total += number_count(i)\n",
    "    \n",
    "    return total\n",
    "\n",
    "print(number_letter_counts(1, 1000))"
   ]
  },
  {
   "cell_type": "markdown",
   "metadata": {},
   "source": [
    "## Problem 18\n",
    "### Maximum path sum I\n",
    "\n",
    "\n",
    "\n",
    "By starting at the top of the triangle below and moving to adjacent numbers on the row below, the maximum total from top to bottom is 23.\n",
    "\n",
    "    3\n",
    "    7 4\n",
    "    2 4 6\n",
    "    8 5 9 3\n",
    "\n",
    "That is, 3 + 7 + 4 + 9 = 23.\n",
    "\n",
    "Find the maximum total from top to bottom of the triangle below:\n",
    "\n",
    "    75\n",
    "    95 64\n",
    "    17 47 82\n",
    "    18 35 87 10\n",
    "    20 04 82 47 65\n",
    "    19 01 23 75 03 34\n",
    "    88 02 77 73 07 63 67\n",
    "    99 65 04 28 06 16 70 92\n",
    "    41 41 26 56 83 40 80 70 33\n",
    "    41 48 72 33 47 32 37 16 94 29\n",
    "    53 71 44 65 25 43 91 52 97 51 14\n",
    "    70 11 33 28 77 73 17 78 39 68 17 57\n",
    "    91 71 52 38 17 14 91 43 58 50 27 29 48\n",
    "    63 66 04 68 89 53 67 30 73 16 69 87 40 31\n",
    "    04 62 98 27 23 09 70 98 73 93 38 53 60 04 23\n",
    "\n",
    "*NOTE: As there are only 16384 routes, it is possible to solve this problem by trying every route. However, Problem 67, is the same challenge with a triangle containing one-hundred rows; it cannot be solved by brute force, and requires a clever method!*\n",
    "\n",
    "\n",
    "#### Strategy\n",
    "\n",
    "For a triangle with one layer, a solution is trivial - there is only one path.\n",
    "\n",
    "    12\n",
    "    \n",
    "For a triangle with 3 layers, a solution is also trivial - we only need to take the maximum value on the last layer. \n",
    "\n",
    "    88\n",
    "    99 65\n",
    "    41 41 26\n",
    "    \n",
    "We can use the same priciple for the rest of the triangle, by replacing each value with the sum of itself and the maximum of the 2 values below it. Eventually the maximum sum will be the value at the top of the triangle. For the example above, this is demonstrated below.\n",
    "\n",
    "    88 + (99 + 41)\n",
    "    (99 + 41) (65 + 26)\n",
    "    41        41        26\n",
    "    \n",
    "    228\n",
    "    140 91\n",
    "    41  41 26\n",
    "    "
   ]
  },
  {
   "cell_type": "code",
   "execution_count": 26,
   "metadata": {
    "collapsed": false
   },
   "outputs": [
    {
     "name": "stdout",
     "output_type": "stream",
     "text": [
      "1074\n"
     ]
    }
   ],
   "source": [
    "maximum_path_pyramid1 = '''75\n",
    "95 64\n",
    "17 47 82\n",
    "18 35 87 10\n",
    "20 04 82 47 65\n",
    "19 01 23 75 03 34\n",
    "88 02 77 73 07 63 67\n",
    "99 65 04 28 06 16 70 92\n",
    "41 41 26 56 83 40 80 70 33\n",
    "41 48 72 33 47 32 37 16 94 29\n",
    "53 71 44 65 25 43 91 52 97 51 14\n",
    "70 11 33 28 77 73 17 78 39 68 17 57\n",
    "91 71 52 38 17 14 91 43 58 50 27 29 48\n",
    "63 66 04 68 89 53 67 30 73 16 69 87 40 31\n",
    "04 62 98 27 23 09 70 98 73 93 38 53 60 04 23'''\n",
    "\n",
    "def maximum_path_sum(pyramid):\n",
    "    for row in range(len(pyramid)-1, 0, -1):\n",
    "        for col in range(0, row):\n",
    "            pyramid[row-1][col] += max(pyramid[row][col], pyramid[row][col+1])\n",
    "    return pyramid[0][0]\n",
    "\n",
    "print(maximum_path_sum([[int(n) for n in row.split()] for row in maximum_path_pyramid1.split('\\n')]))"
   ]
  },
  {
   "cell_type": "markdown",
   "metadata": {},
   "source": [
    "## Problem 19\n",
    "### Counting Sundays\n",
    "\n",
    "You are given the following information, but you may prefer to do some research for yourself.\n",
    "\n",
    "* 1 Jan 1900 was a Monday.\n",
    "* Thirty days has September,\n",
    "  April, June and November.\n",
    "  All the rest have thirty-one,\n",
    "  Saving February alone,\n",
    "  Which has twenty-eight, rain or shine.\n",
    "  And on leap years, twenty-nine.\n",
    "* A leap year occurs on any year evenly divisible by 4, but not on a century unless it is divisible by 400.\n",
    "\n",
    "How many Sundays fell on the first of the month during the twentieth century (1 Jan 1901 to 31 Dec 2000)?"
   ]
  },
  {
   "cell_type": "code",
   "execution_count": 27,
   "metadata": {
    "collapsed": false
   },
   "outputs": [
    {
     "name": "stdout",
     "output_type": "stream",
     "text": [
      "171\n"
     ]
    }
   ],
   "source": [
    "from datetime import timedelta, date\n",
    "\n",
    "def daterange(start_date, end_date):\n",
    "    for n in range(int ((end_date - start_date).days)):\n",
    "        yield start_date + timedelta(n)\n",
    "\n",
    "def counting_sundays(start_date, end_date):\n",
    "    total = 0\n",
    "    for d in daterange(start_date, end_date):\n",
    "        if d.weekday() == 6 and d.day == 1:\n",
    "            total += 1\n",
    "    return total\n",
    "\n",
    "\n",
    "print(counting_sundays(date(1901, 1, 1), date(2000, 12, 31)))"
   ]
  },
  {
   "cell_type": "markdown",
   "metadata": {},
   "source": [
    "## Problem 20\n",
    "### Factorial digit sum\n",
    "\n",
    "n! means n × (n − 1) × ... × 3 × 2 × 1\n",
    "\n",
    "For example, 10! = 10 × 9 × ... × 3 × 2 × 1 = 3628800,\n",
    "and the sum of the digits in the number 10! is 3 + 6 + 2 + 8 + 8 + 0 + 0 = 27.\n",
    "\n",
    "Find the sum of the digits in the number 100!"
   ]
  },
  {
   "cell_type": "code",
   "execution_count": 28,
   "metadata": {
    "collapsed": false
   },
   "outputs": [
    {
     "name": "stdout",
     "output_type": "stream",
     "text": [
      "648\n"
     ]
    }
   ],
   "source": [
    "def factorial_digit_sum(n):\n",
    "    return sum(map(int, list(str(factorial(n)))))\n",
    "\n",
    "print(factorial_digit_sum(100))"
   ]
  },
  {
   "cell_type": "markdown",
   "metadata": {},
   "source": [
    "## Problem 21\n",
    "### Amicable numbers\n",
    "\n",
    "Let d(n) be defined as the sum of proper divisors of n (numbers less than n which divide evenly into n).\n",
    "If d(a) = b and d(b) = a, where a ≠ b, then a and b are an amicable pair and each of a and b are called amicable numbers.\n",
    "\n",
    "For example, the proper divisors of 220 are 1, 2, 4, 5, 10, 11, 20, 22, 44, 55 and 110; therefore d(220) = 284. The proper divisors of 284 are 1, 2, 4, 71 and 142; so d(284) = 220.\n",
    "\n",
    "Evaluate the sum of all the amicable numbers under 10000."
   ]
  },
  {
   "cell_type": "code",
   "execution_count": 29,
   "metadata": {
    "collapsed": false
   },
   "outputs": [
    {
     "name": "stdout",
     "output_type": "stream",
     "text": [
      "31626\n"
     ]
    }
   ],
   "source": [
    "def amicable_numbers(max_n):\n",
    "    amicables = [False] * max_n\n",
    "    for a in range(1, max_n):\n",
    "        if not amicables[a]:\n",
    "            b = d(a)\n",
    "            if d(b) == a and a != b:\n",
    "                amicables[a] = amicables[b] = True\n",
    "    return sum([i for i, j in enumerate(amicables) if j])\n",
    "\n",
    "print(amicable_numbers(10000))"
   ]
  },
  {
   "cell_type": "markdown",
   "metadata": {},
   "source": [
    "## Problem 22\n",
    "### Name scores\n",
    "\n",
    "Using names.txt (right click and 'Save Link/Target As...'), a 46K text file containing over five-thousand first names, begin by sorting it into alphabetical order. Then working out the alphabetical value for each name, multiply this value by its alphabetical position in the list to obtain a name score.\n",
    "\n",
    "For example, when the list is sorted into alphabetical order, COLIN, which is worth 3 + 15 + 12 + 9 + 14 = 53, is the 938th name in the list. So, COLIN would obtain a score of 938 × 53 = 49714.\n",
    "\n",
    "What is the total of all the name scores in the file?"
   ]
  },
  {
   "cell_type": "code",
   "execution_count": 30,
   "metadata": {
    "collapsed": false
   },
   "outputs": [
    {
     "name": "stdout",
     "output_type": "stream",
     "text": [
      "871198282\n"
     ]
    }
   ],
   "source": [
    "def name_scores():\n",
    "    with open('p022_names.txt') as f:\n",
    "        names = enumerate(sorted([n.upper().strip('\"') for n in f.read().split(',')]))\n",
    "        \n",
    "    alpha = 'ABCDEFGHIJKLMNOPQRSTUVWXYZ'\n",
    "    def name_score(name_tuple):\n",
    "        place, name = name_tuple\n",
    "        \n",
    "        name_value = 0\n",
    "        for letter in name:\n",
    "            name_value += alpha.find(letter) + 1\n",
    "        return name_value * (place + 1)\n",
    "        \n",
    "    return sum(map(name_score, list(names)))\n",
    "        \n",
    "print(name_scores())"
   ]
  },
  {
   "cell_type": "markdown",
   "metadata": {},
   "source": [
    "## Problem 23\n",
    "### Non-abundant sums\n",
    "\n",
    "A perfect number is a number for which the sum of its proper divisors is exactly equal to the number. For example, the sum of the proper divisors of 28 would be 1 + 2 + 4 + 7 + 14 = 28, which means that 28 is a perfect number.\n",
    "\n",
    "A number n is called deficient if the sum of its proper divisors is less than n and it is called abundant if this sum exceeds n.\n",
    "\n",
    "As 12 is the smallest abundant number, 1 + 2 + 3 + 4 + 6 = 16, the smallest number that can be written as the sum of two abundant numbers is 24. By mathematical analysis, it can be shown that all integers greater than 28123 can be written as the sum of two abundant numbers. However, this upper limit cannot be reduced any further by analysis even though it is known that the greatest number that cannot be expressed as the sum of two abundant numbers is less than this limit.\n",
    "\n",
    "Find the sum of all the positive integers which cannot be written as the sum of two abundant numbers."
   ]
  },
  {
   "cell_type": "code",
   "execution_count": 31,
   "metadata": {
    "collapsed": false,
    "scrolled": true
   },
   "outputs": [
    {
     "name": "stdout",
     "output_type": "stream",
     "text": [
      "4179871\n"
     ]
    }
   ],
   "source": [
    "def non_abundant_sums():\n",
    "    abundants = set(i for i in range(1, 28124) if d(i) > i)\n",
    "    def is_abundantsum(n):\n",
    "        return any(n - a in abundants for a in abundants)\n",
    "    return sum(j for j in range(1, 28124) if not is_abundantsum(j))\n",
    "\n",
    "print(non_abundant_sums())"
   ]
  },
  {
   "cell_type": "markdown",
   "metadata": {},
   "source": [
    "## Problem 24\n",
    "### Lexicographic permutations\n",
    "\n",
    "A permutation is an ordered arrangement of objects. For example, 3124 is one possible permutation of the digits 1, 2, 3 and 4. If all of the permutations are listed numerically or alphabetically, we call it lexicographic order. The lexicographic permutations of 0, 1 and 2 are:\n",
    "\n",
    "012   021   102   120   201   210\n",
    "\n",
    "What is the millionth lexicographic permutation of the digits 0, 1, 2, 3, 4, 5, 6, 7, 8 and 9?"
   ]
  },
  {
   "cell_type": "code",
   "execution_count": 32,
   "metadata": {
    "collapsed": false
   },
   "outputs": [
    {
     "name": "stdout",
     "output_type": "stream",
     "text": [
      "2783915460\n"
     ]
    }
   ],
   "source": [
    "from itertools import permutations\n",
    "\n",
    "def lexicographic_permutations(digits, index):\n",
    "    return ''.join(map(str, sorted(list(permutations(digits)))[index - 1]))\n",
    "\n",
    "print(lexicographic_permutations(range(10), 1000000))"
   ]
  },
  {
   "cell_type": "markdown",
   "metadata": {},
   "source": [
    "## Problem 25\n",
    "### 1000-digit Fibonacci number\n",
    "\n",
    "The Fibonacci sequence is defined by the recurrence relation:\n",
    "\n",
    "    Fn = Fn−1 + Fn−2, where F1 = 1 and F2 = 1.\n",
    "\n",
    "Hence the first 12 terms will be:\n",
    "\n",
    "    F1 = 1\n",
    "    F2 = 1\n",
    "    F3 = 2\n",
    "    F4 = 3\n",
    "    F5 = 5\n",
    "    F6 = 8\n",
    "    F7 = 13\n",
    "    F8 = 21\n",
    "    F9 = 34\n",
    "    F10 = 55\n",
    "    F11 = 89\n",
    "    F12 = 144\n",
    "\n",
    "The 12th term, F12, is the first term to contain three digits.\n",
    "\n",
    "What is the index of the first term in the Fibonacci sequence to contain 1000 digits?"
   ]
  },
  {
   "cell_type": "code",
   "execution_count": 33,
   "metadata": {
    "collapsed": false
   },
   "outputs": [
    {
     "name": "stdout",
     "output_type": "stream",
     "text": [
      "4782\n"
     ]
    }
   ],
   "source": [
    "import math\n",
    "\n",
    "def big_fibonacci(digit_count):\n",
    "    ''' phi ** n / sqrt(5) > 10 ** 999\n",
    "        n * log(phi) > 999 * log(10) + log(5)/2\n",
    "        n > (999 * log(10) + log(5) / 2) / log(phi)\n",
    "    '''\n",
    "    phi = (1 + 5**0.5)/2\n",
    "    return math.floor(((999 * math.log(10) + math.log(5) / 2) / math.log(phi)) + 0.5)\n",
    "    \n",
    "print(big_fibonacci(1000))"
   ]
  },
  {
   "cell_type": "markdown",
   "metadata": {},
   "source": [
    "## Problem 26\n",
    "### Reciprocal cycles\n",
    "\n",
    "A unit fraction contains 1 in the numerator. The decimal representation of the unit fractions with denominators 2 to 10 are given:\n",
    "\n",
    "    1/2\t= \t0.5\n",
    "    1/3\t= \t0.(3)\n",
    "    1/4\t= \t0.25\n",
    "    1/5\t= \t0.2\n",
    "    1/6\t= \t0.1(6)\n",
    "    1/7\t= \t0.(142857)\n",
    "    1/8\t= \t0.125\n",
    "    1/9\t= \t0.(1)\n",
    "    1/10\t= \t0.1 \n",
    "\n",
    "Where 0.1(6) means 0.166666..., and has a 1-digit recurring cycle. It can be seen that 1/7 has a 6-digit recurring cycle.\n",
    "\n",
    "Find the value of d < 1000 for which 1/d contains the longest recurring cycle in its decimal fraction part.\n",
    "\n",
    "#### Strategy\n",
    "\n",
    "Fermat's little theorem says: \n",
    "> 1/d has a cycle of $n$ digits if $10^n - 1 \\mod d = 0$ for prime $d$\n",
    "\n",
    "A prime number in the denominator can yield up to d-1 repeating decimal digits, so we need to find the largest prime under 1000 that has d-1 repeating digits."
   ]
  },
  {
   "cell_type": "code",
   "execution_count": 40,
   "metadata": {
    "collapsed": false
   },
   "outputs": [
    {
     "name": "stdout",
     "output_type": "stream",
     "text": [
      "983\n"
     ]
    }
   ],
   "source": [
    "def reciprocal_cycles(lim):\n",
    "    for d in erat_sieve(lim)[::-1]:\n",
    "        period = 1\n",
    "        while pow(10, period, d) != 1:\n",
    "            period += 1\n",
    "        if d - 1 == period:\n",
    "            return d\n",
    "\n",
    "print(reciprocal_cycles(1000))"
   ]
  },
  {
   "cell_type": "markdown",
   "metadata": {},
   "source": [
    "## Problem 27\n",
    "### Quadratic primes\n",
    "Euler discovered the remarkable quadratic formula:\n",
    "\n",
    "$$\n",
    "n^2+n+41\n",
    "$$\n",
    "\n",
    "It turns out that the formula will produce 40 primes for the consecutive integer values $0≤n≤39$. However, when $n=40,40^2+40+41=40(40+1)+41$ is divisible by 41, and certainly when $n=41,41^2+41+41$ is clearly divisible by 41.\n",
    "\n",
    "The incredible formula $n^2−79n+1601$ was discovered, which produces 80 primes for the consecutive values $0≤n≤79$. The product of the coefficients, −79 and 1601, is −126479.\n",
    "\n",
    "Considering quadratics of the form:\n",
    "\n",
    "$n^2+an+b$, where $|a|<1000$ and $|b|≤1000$\n",
    "\n",
    "where $|n|$ is the modulus/absolute value of $n$\n",
    "e.g. $|11|=11$ and $|−4|=4$\n",
    "\n",
    "Find the product of the coefficients, $a$ and $b$, for the quadratic expression that produces the maximum number of primes for consecutive values of $n$, starting with $n=0$.\n",
    "\n",
    "#### Strategy\n",
    "\n",
    "* $|b|$ must be prime, since $n=0$ must result in a prime.\n",
    "* If for a combination (a, b), we get m consecutive primes, it must be true that b > m.\n",
    "* When $a < 0$, then $b > -(n^2 + an)$, because the primes must be positive. We know that $n^2 + n + 41$ returns 40 primes, interesting values for $a$ and $b$ should satisfy $b > =(40^2 + 40a)$."
   ]
  },
  {
   "cell_type": "code",
   "execution_count": 42,
   "metadata": {
    "collapsed": false
   },
   "outputs": [
    {
     "name": "stdout",
     "output_type": "stream",
     "text": [
      "-61 971 71\n",
      "-59231\n"
     ]
    }
   ],
   "source": [
    "def quadratic_primes(lim):\n",
    "    besta = bestb = max_res= 0\n",
    "    for a in range(-1000, 1001):\n",
    "        for b in erat_sieve(1000):\n",
    "            if b < -(pow(40, 2) + 40 * a) or b < max_res:\n",
    "                continue\n",
    "            res = n = 0\n",
    "            while is_prime(pow(n, 2) + a * n + b):\n",
    "                res += 1\n",
    "                n += 1\n",
    "            if res > max_res:\n",
    "                besta, bestb, max_res = a, b, res\n",
    "    #print(besta, bestb, max_res)\n",
    "    return besta * bestb\n",
    "\n",
    "print(quadratic_primes(1000))"
   ]
  },
  {
   "cell_type": "markdown",
   "metadata": {},
   "source": [
    "## Problem 28\n",
    "### Number spiral diagonals\n",
    "\n",
    "Starting with the number 1 and moving to the right in a clockwise direction a 5 by 5 spiral is formed as follows:\n",
    "\n",
    "    21 22 23 24 25\n",
    "    20  7  8  9 10\n",
    "    19  6  1  2 11\n",
    "    18  5  4  3 12\n",
    "    17 16 15 14 13\n",
    "\n",
    "It can be verified that the sum of the numbers on the diagonals is 101.\n",
    "\n",
    "What is the sum of the numbers on the diagonals in a 1001 by 1001 spiral formed in the same way?"
   ]
  },
  {
   "cell_type": "code",
   "execution_count": 34,
   "metadata": {
    "collapsed": false
   },
   "outputs": [
    {
     "name": "stdout",
     "output_type": "stream",
     "text": [
      "669171001\n"
     ]
    }
   ],
   "source": [
    "def number_spiral_diagonals(size):\n",
    "    total = 1\n",
    "    counter = 1\n",
    "    skip = 2\n",
    "    while counter < size * size:\n",
    "        for i in range(4):\n",
    "            counter += skip\n",
    "            total += counter\n",
    "        skip += 2\n",
    "    return total\n",
    "\n",
    "print(number_spiral_diagonals(1001))"
   ]
  },
  {
   "cell_type": "markdown",
   "metadata": {},
   "source": [
    "## Problem 29\n",
    "### Distinct powers\n",
    "\n",
    "\n",
    "\n",
    "Consider all integer combinations of $a^b$ for 2 ≤ a ≤ 5 and 2 ≤ b ≤ 5\n",
    "\n",
    "If they are then placed in numerical order, with any repeats removed, we get the following sequence of 15 distinct terms:\n",
    "\n",
    "4, 8, 9, 16, 25, 27, 32, 64, 81, 125, 243, 256, 625, 1024, 3125\n",
    "\n",
    "How many distinct terms are in the sequence generated by ab for 2 ≤ a ≤ 100 and 2 ≤ b ≤ 100?\n"
   ]
  },
  {
   "cell_type": "code",
   "execution_count": 35,
   "metadata": {
    "collapsed": false
   },
   "outputs": [
    {
     "name": "stdout",
     "output_type": "stream",
     "text": [
      "9183\n"
     ]
    }
   ],
   "source": [
    "from itertools import product\n",
    "\n",
    "def distinct_powers(a_range):\n",
    "    power = lambda t: pow(t[0], t[1])\n",
    "    terms = set(map(power, product(a_range, repeat=2)))\n",
    "    return len(terms)\n",
    "    \n",
    "print(distinct_powers(range(2, 101)))"
   ]
  },
  {
   "cell_type": "markdown",
   "metadata": {},
   "source": [
    "## Problem 35\n",
    "### Circular primes\n",
    "\n",
    "The number, 197, is called a circular prime because all rotations of the digits: 197, 971, and 719, are themselves prime.\n",
    "\n",
    "There are thirteen such primes below 100: 2, 3, 5, 7, 11, 13, 17, 31, 37, 71, 73, 79, and 97.\n",
    "\n",
    "How many circular primes are there below one million?"
   ]
  },
  {
   "cell_type": "code",
   "execution_count": 36,
   "metadata": {
    "collapsed": false
   },
   "outputs": [
    {
     "name": "stdout",
     "output_type": "stream",
     "text": [
      "55\n"
     ]
    }
   ],
   "source": [
    "from itertools import permutations\n",
    "\n",
    "def circular_primes(max_n):\n",
    "    def rotations(n):\n",
    "        rots = [n]\n",
    "        n = str(n)\n",
    "        for i in range(len(n) - 1):\n",
    "            n = n[1:] + n[0]\n",
    "            rots.append(int(n))\n",
    "        return rots\n",
    "    \n",
    "    cp = set()\n",
    "    cp.add(2)\n",
    "    for i in range(3, max_n, 2):\n",
    "        if all(map(is_prime, rotations(i))):\n",
    "            cp.add(i)\n",
    "    return len(cp)\n",
    "\n",
    "print(circular_primes(1000000))\n",
    "    "
   ]
  },
  {
   "cell_type": "markdown",
   "metadata": {},
   "source": [
    "## Problem 37\n",
    "### Truncatable primes\n",
    "\n",
    "The number 3797 has an interesting property. Being prime itself, it is possible to continuously remove digits from left to right, and remain prime at each stage: 3797, 797, 97, and 7. Similarly we can work from right to left: 3797, 379, 37, and 3.\n",
    "\n",
    "Find the sum of the only eleven primes that are both truncatable from left to right and right to left.\n",
    "\n",
    "*NOTE: 2, 3, 5, and 7 are not considered to be truncatable primes.*"
   ]
  },
  {
   "cell_type": "code",
   "execution_count": 37,
   "metadata": {
    "collapsed": false
   },
   "outputs": [
    {
     "name": "stdout",
     "output_type": "stream",
     "text": [
      "[3137, 37, 739397, 73, 373, 53, 23, 3797, 313, 317, 797]\n",
      "748317\n"
     ]
    }
   ],
   "source": [
    "'''\n",
    "Last digit can be 3 or 7. First can be 2, 3, 5 or 7\n",
    "\n",
    "Possible numbers:\n",
    "    -13\n",
    "    -17\n",
    "    -37\n",
    "    -73\n",
    "    -97\n",
    "    \n",
    "Actual values:\n",
    "\n",
    "23\n",
    "37\n",
    "73\n",
    "53\n",
    "57\n",
    "\n",
    "if has 2 or 5 as not the first digit, then reject\n",
    "\n",
    "'''\n",
    "\n",
    "from itertools import product, chain\n",
    "\n",
    "def primely_truncatable(n):\n",
    "    n = int(n)\n",
    "    def left_truncate(l):\n",
    "        ns = str(l)[1:]\n",
    "        if len(ns) == 0:\n",
    "            return True\n",
    "        else:\n",
    "            if is_prime(int(ns)):\n",
    "                return left_truncate(int(ns))\n",
    "            return False\n",
    "        \n",
    "    def right_truncate(r):\n",
    "        ns = str(r)[:-1]\n",
    "        if len(ns) == 0:\n",
    "            return True\n",
    "        else:\n",
    "            if is_prime(int(ns)):\n",
    "                return right_truncate(int(ns))\n",
    "            return False\n",
    "        \n",
    "    if is_prime(n):\n",
    "        l, r = left_truncate(n), right_truncate(n)\n",
    "        return l and r\n",
    "\n",
    "    return False\n",
    "\n",
    "\n",
    "def get_truncatables():\n",
    "    primes = [13, 17, 37, 73, 97]\n",
    "    additional = [2, 3, 5, 7, 9]\n",
    "    working = []\n",
    "    result = [23, 37, 73, 53]\n",
    "    \n",
    "    nlen = 2\n",
    "        \n",
    "    while len(result) < 11 and nlen < 7:\n",
    "        ptuple = chain(product(additional, primes),product(primes, additional))\n",
    "        for p in ptuple:\n",
    "            if 2 in p[1:] or 5 in p[1:]:\n",
    "                continue\n",
    "            p = ''.join(map(str, p))\n",
    "            if primely_truncatable(p):\n",
    "                result.append(int(p))\n",
    "            if is_prime(int(p)):\n",
    "                working.append(int(p))\n",
    "        result = list(set(result))\n",
    "        primes = working\n",
    "        nlen += 1\n",
    "    \n",
    "    return result\n",
    "\n",
    "double_truncatables = get_truncatables()\n",
    "print(double_truncatables)\n",
    "print(sum(double_truncatables))\n"
   ]
  },
  {
   "cell_type": "markdown",
   "metadata": {},
   "source": [
    "## Problem 41\n",
    "### Pandigital prime\n",
    "\n",
    "We shall say that an n-digit number is pandigital if it makes use of all the digits 1 to n exactly once. For example, 2143 is a 4-digit pandigital and is also prime.\n",
    "\n",
    "What is the largest n-digit pandigital prime that exists?"
   ]
  },
  {
   "cell_type": "code",
   "execution_count": 10,
   "metadata": {
    "collapsed": false
   },
   "outputs": [
    {
     "name": "stdout",
     "output_type": "stream",
     "text": [
      "7652413\n"
     ]
    }
   ],
   "source": [
    "from itertools import permutations\n",
    "\n",
    "def pandigital_prime(n_digits):\n",
    "    if n_digits == 0:\n",
    "        return False\n",
    "    digits = [1, 2, 3, 4, 5, 6, 7, 8, 9][::-1]\n",
    "    pandigitals = permutations(digits[9-n_digits:10])\n",
    "    for i in pandigitals:\n",
    "        n = int(''.join(map(str, i)))\n",
    "        if is_prime(n):\n",
    "            return n\n",
    "    return pandigital_prime(n_digits-1)\n",
    "\n",
    "print(pandigital_prime(9))"
   ]
  },
  {
   "cell_type": "markdown",
   "metadata": {},
   "source": [
    "## Problem 42\n",
    "### Coded triangle numbers\n",
    "\n",
    "\n",
    "The nth term of the sequence of triangle numbers is given by, tn = ½n(n+1); so the first ten triangle numbers are:\n",
    "\n",
    "1, 3, 6, 10, 15, 21, 28, 36, 45, 55, ...\n",
    "\n",
    "By converting each letter in a word to a number corresponding to its alphabetical position and adding these values we form a word value. For example, the word value for SKY is 19 + 11 + 25 = 55 = t10. If the word value is a triangle number then we shall call the word a triangle word.\n",
    "\n",
    "Using words.txt (right click and 'Save Link/Target As...'), a 16K text file containing nearly two-thousand common English words, how many are triangle words?"
   ]
  },
  {
   "cell_type": "code",
   "execution_count": 34,
   "metadata": {
    "collapsed": false
   },
   "outputs": [
    {
     "name": "stdout",
     "output_type": "stream",
     "text": [
      "162\n"
     ]
    }
   ],
   "source": [
    "def coded_triangles(fname):\n",
    "    def score(w):\n",
    "        alpha = 'ABCDEFGHIJKLMNOPQRSTUVWXYZ'\n",
    "        total = 0\n",
    "        for letter in w:\n",
    "            total += alpha.find(letter) + 1\n",
    "        return total\n",
    "        \n",
    "    with open(fname) as f:\n",
    "        words = [w.strip('\"') for w in f.read().split(',')]\n",
    "        \n",
    "    ct_words = [w for w in words if is_triangular(score(w))]\n",
    "    return len(ct_words)\n",
    "\n",
    "print(coded_triangles('p042_words.txt'))"
   ]
  },
  {
   "cell_type": "markdown",
   "metadata": {},
   "source": [
    "## Problem 43\n",
    "### Sub-string divisibility\n",
    "\n",
    "The number, 1406357289, is a 0 to 9 pandigital number because it is made up of each of the digits 0 to 9 in some order, but it also has a rather interesting sub-string divisibility property.\n",
    "\n",
    "Let $d_1$ be the 1st digit, $d_2$ be the 2nd digit, and so on. In this way, we note the following:\n",
    "\n",
    "* $d_2d_3d_4=406$ is divisible by 2\n",
    "* $d_3d_4d_5=063$ is divisible by 3\n",
    "* $d_4d_5d_6=635$ is divisible by 5\n",
    "* $d_5d_6d_7=357$ is divisible by 7\n",
    "* $d_6d_7d_8=572$ is divisible by 11\n",
    "* $d_7d_8d_9=728$ is divisible by 13\n",
    "* $d_8d_9d_{10}=289$ is divisible by 17\n",
    "\n",
    "Find the sum of all 0 to 9 pandigital numbers with this property."
   ]
  },
  {
   "cell_type": "code",
   "execution_count": 28,
   "metadata": {
    "collapsed": false
   },
   "outputs": [
    {
     "name": "stdout",
     "output_type": "stream",
     "text": [
      "[1406357289, 1430952867, 1460357289, 4106357289, 4130952867, 4160357289]\n",
      "16695334890\n"
     ]
    }
   ],
   "source": [
    "from itertools import permutations\n",
    "\n",
    "def sub_string_divisible():\n",
    "    primes = [2, 3, 5, 7, 11, 13, 17]\n",
    "    def is_ssd(tup):\n",
    "        for d in range(1, len(tup) - 2):\n",
    "            n = int(''.join(map(str, tup[d:d+3])))\n",
    "            if n % primes[d-1] != 0:\n",
    "                return False\n",
    "        return True\n",
    "    \n",
    "    digits = [0, 1, 2, 3, 4, 5, 6, 7, 8, 9]\n",
    "    ssds = [int(''.join(map(str, i))) for i in permutations(digits) if is_ssd(i)]\n",
    "    #print(ssds)\n",
    "    return sum(ssds)\n",
    "    \n",
    "\n",
    "print(sub_string_divisible())"
   ]
  },
  {
   "cell_type": "markdown",
   "metadata": {},
   "source": [
    "## Problem 44\n",
    "### Pentagonal numbers\n",
    "\n",
    "Pentagonal numbers are generated by the formula, Pn=n(3n−1)/2. The first ten pentagonal numbers are:\n",
    "\n",
    "1, 5, 12, 22, 35, 51, 70, 92, 117, 145, ...\n",
    "\n",
    "It can be seen that P4 + P7 = 22 + 70 = 92 = P8. However, their difference, 70 − 22 = 48, is not pentagonal.\n",
    "\n",
    "Find the pair of pentagonal numbers, Pj and Pk, for which their sum and difference are pentagonal and D = |Pk − Pj| is minimised; what is the value of D?"
   ]
  },
  {
   "cell_type": "code",
   "execution_count": 8,
   "metadata": {
    "collapsed": false
   },
   "outputs": [
    {
     "name": "stdout",
     "output_type": "stream",
     "text": [
      "5482660\n"
     ]
    }
   ],
   "source": [
    "def pentagonal_numbers():\n",
    "    res = 0\n",
    "    found = False\n",
    "    i = 1\n",
    "    while not found:\n",
    "        i += 1\n",
    "        n = i * (3 * i - 1) / 2\n",
    "        \n",
    "        for j in range(i - 1, 0, -1):\n",
    "            m = j * (3 * j - 1) / 2\n",
    "            if is_pentagonal(abs(n - m)) and is_pentagonal(n + m):\n",
    "                res = abs(n - m)\n",
    "                found = True\n",
    "                break\n",
    "    return int(res)\n",
    "\n",
    "print(pentagonal_numbers())"
   ]
  },
  {
   "cell_type": "markdown",
   "metadata": {},
   "source": [
    "## Problem 45\n",
    "### Triangular, pentagonal, and hexagonal\n",
    "\n",
    "\n",
    "\n",
    "Triangle, pentagonal, and hexagonal numbers are generated by the following formulae:\n",
    "\n",
    "Triangle:     $T_n=n(n+1)/2$  --> \t1, 3, 6, 10, 15, ...\n",
    "\n",
    "Pentagonal:   $P_n=n(3n−1)/2$ -->\t1, 5, 12, 22, 35, ...\n",
    "    \n",
    "Hexagonal:    $H_n=n(2n−1)$   -->\t1, 6, 15, 28, 45, ...\n",
    "\n",
    "It can be verified that $T_{285}$ = $P_{165}$ = $H_{143}$ = 40755.\n",
    "\n",
    "Find the next triangle number that is also pentagonal and hexagonal.\n",
    "\n",
    "\n",
    "### Strategy\n",
    "\n",
    "Obviously all hexagonal numbers are also triangular, so we only need to find overlap of hexagonals and pentagonals, and we can start at $H_{143}$.\n"
   ]
  },
  {
   "cell_type": "code",
   "execution_count": 12,
   "metadata": {
    "collapsed": false
   },
   "outputs": [
    {
     "name": "stdout",
     "output_type": "stream",
     "text": [
      "1533776805\n"
     ]
    }
   ],
   "source": [
    "def tph(h_n):\n",
    "    def h(n):\n",
    "        return n * (2 * n - 1)\n",
    "    h_n += 1\n",
    "    current = h(h_n)\n",
    "    while not is_pentagonal(current):\n",
    "        h_n += 1\n",
    "        current = h(h_n)\n",
    "    return current\n",
    "    \n",
    "print(tph(143))"
   ]
  },
  {
   "cell_type": "markdown",
   "metadata": {},
   "source": [
    "## Problem 46\n",
    "### Goldbach's other conjecture\n",
    "\n",
    "It was proposed by Christian Goldbach that every odd composite number can be written as the sum of a prime and twice a square.\n",
    "\n",
    "$9 = 7 + 2×1^2$\n",
    "\n",
    "$15 = 7 + 2×2^2$\n",
    "\n",
    "$21 = 3 + 2×3^2$\n",
    "\n",
    "$25 = 7 + 2×3^2$\n",
    "\n",
    "$27 = 19 + 2×2^2$\n",
    "\n",
    "$33 = 31 + 2×1^2$\n",
    "\n",
    "It turns out that the conjecture was false.\n",
    "\n",
    "What is the smallest odd composite that cannot be written as the sum of a prime and twice a square?\n",
    "\n",
    "*A composite number is any number greater than 1, which is not prime.*"
   ]
  },
  {
   "cell_type": "code",
   "execution_count": 51,
   "metadata": {
    "collapsed": false
   },
   "outputs": [
    {
     "name": "stdout",
     "output_type": "stream",
     "text": [
      "5777\n"
     ]
    }
   ],
   "source": [
    "def goldbachs_other_conjecture():\n",
    "    n = 5\n",
    "    primes = set()\n",
    "    while 1:\n",
    "        if (all(n % p for p in primes)):\n",
    "            primes.add(n)\n",
    "        else:\n",
    "            if not any((n - 2 * i * i) in primes for i in range(1, n)):\n",
    "                return n\n",
    "        n += 2\n",
    "\n",
    "print(goldbachs_other_conjecture())"
   ]
  },
  {
   "cell_type": "markdown",
   "metadata": {},
   "source": [
    "## Problem 47\n",
    "### Distinct prime factors\n",
    "\n",
    "The first two consecutive numbers to have two distinct prime factors are:\n",
    "\n",
    "14 = 2 × 7\n",
    "\n",
    "15 = 3 × 5\n",
    "\n",
    "The first three consecutive numbers to have three distinct prime factors are:\n",
    "\n",
    "644 = 2² × 7 × 23\n",
    "\n",
    "645 = 3 × 5 × 43\n",
    "\n",
    "646 = 2 × 17 × 19.\n",
    "\n",
    "Find the first four consecutive integers to have four distinct prime factors. What is the first of these numbers?"
   ]
  },
  {
   "cell_type": "code",
   "execution_count": 56,
   "metadata": {
    "collapsed": false
   },
   "outputs": [
    {
     "name": "stdout",
     "output_type": "stream",
     "text": [
      "[134043, 134044, 134045, 134046]\n",
      "134043\n"
     ]
    }
   ],
   "source": [
    "def distinct_prime_factors(starting_number, consecutive_numbers, distinct_factors):\n",
    "    def has_distinct_factors(n):\n",
    "        return len(set(pfactors(n))) == distinct_factors\n",
    "    \n",
    "    numbers = [starting_number + i for i in range(consecutive_numbers)]\n",
    "    while not all(map(has_distinct_factors, numbers)):\n",
    "        numbers = [n + 1 for n in numbers]\n",
    "    print(numbers)\n",
    "    return numbers[0]\n",
    "\n",
    "print(distinct_prime_factors(2*3*5*7, 4, 4))"
   ]
  },
  {
   "cell_type": "markdown",
   "metadata": {},
   "source": [
    "## Problem 48\n",
    "### Self powers\n",
    "\n",
    "The series, 1^1 + 2^2 + 3^3 + ... + 10^10 = 10405071317.\n",
    "\n",
    "Find the last ten digits of the series, 1^1 + 2^2 + 3^3 + ... + 1000^1000."
   ]
  },
  {
   "cell_type": "code",
   "execution_count": 76,
   "metadata": {
    "collapsed": false
   },
   "outputs": [
    {
     "name": "stdout",
     "output_type": "stream",
     "text": [
      "9110846700\n"
     ]
    }
   ],
   "source": [
    "def self_powers(series_end):\n",
    "    return str(sum(pow(i, i) for i in range(1, series_end + 1)))[-10:]\n",
    "\n",
    "print(self_powers(1000))"
   ]
  },
  {
   "cell_type": "markdown",
   "metadata": {},
   "source": [
    "## Problem 49\n",
    "### Prime permutations\n",
    "\n",
    "The arithmetic sequence, 1487, 4817, 8147, in which each of the terms increases by 3330, is unusual in two ways: (i) each of the three terms are prime, and, (ii) each of the 4-digit numbers are permutations of one another.\n",
    "\n",
    "There are no arithmetic sequences made up of three 1-, 2-, or 3-digit primes, exhibiting this property, but there is one other 4-digit increasing sequence.\n",
    "\n",
    "What 12-digit number do you form by concatenating the three terms in this sequence?"
   ]
  },
  {
   "cell_type": "code",
   "execution_count": 81,
   "metadata": {
    "collapsed": false
   },
   "outputs": [
    {
     "name": "stdout",
     "output_type": "stream",
     "text": [
      "296962999629\n"
     ]
    }
   ],
   "source": [
    "def prime_permuations():\n",
    "    diff = 3330\n",
    "    res = []\n",
    "    poss = []\n",
    "    for i in range(1001, 3333, 2):\n",
    "        if is_prime(i):\n",
    "            idigits = sorted(list(str(i)))\n",
    "            poss.append(i)\n",
    "            for c in range(2):\n",
    "                i += diff\n",
    "                if is_prime(i) and sorted(list(str(i))) == idigits:\n",
    "                    poss.append(i)\n",
    "                else:\n",
    "                    poss = []\n",
    "                    break\n",
    "            if poss:\n",
    "                res.append(poss)\n",
    "    #return res \n",
    "    # slightly odd result here with an extra value, but it's \n",
    "    # obvious as to the answer.\n",
    "    \n",
    "    return ''.join(list(map(str, res[1]))[:-1])\n",
    "                    \n",
    "print(prime_permuations())"
   ]
  },
  {
   "cell_type": "markdown",
   "metadata": {},
   "source": [
    "## Problem 50\n",
    "### Consecutive prime sum\n",
    "\n",
    "The prime 41, can be written as the sum of six consecutive primes:\n",
    "41 = 2 + 3 + 5 + 7 + 11 + 13\n",
    "\n",
    "This is the longest sum of consecutive primes that adds to a prime below one-hundred.\n",
    "\n",
    "The longest sum of consecutive primes below one-thousand that adds to a prime, contains 21 terms, and is equal to 953.\n",
    "\n",
    "Which prime, below one-million, can be written as the sum of the most consecutive primes?\n",
    "\n",
    "#### Strategy\n",
    "\n",
    "* Need to find out which prime to start with, and how many primes to add.\n",
    "* Build an array of sums of primes, and then search it to find the highest one."
   ]
  },
  {
   "cell_type": "code",
   "execution_count": 75,
   "metadata": {
    "collapsed": false
   },
   "outputs": [
    {
     "name": "stdout",
     "output_type": "stream",
     "text": [
      "(543, 997651)\n"
     ]
    }
   ],
   "source": [
    "def consecutive_prime_sum(lim):\n",
    "    \n",
    "    result, prime_count = 0, 0\n",
    "    primes = erat_sieve(lim // 100) # won't actually need that many primes\n",
    "    \n",
    "    prime_sum = [0]\n",
    "    for p in primes:\n",
    "        prime_sum.append(prime_sum[-1] + p)\n",
    "        if prime_sum[-1] >= lim: break\n",
    "    c = len(prime_sum)\n",
    "\n",
    "    terms = 1\n",
    "    for i in range(c):\n",
    "        for j in range(c-1, i+terms, -1):\n",
    "            n = prime_sum[j] - prime_sum[i]\n",
    "            if (j-i > terms and is_prime(n)):\n",
    "                terms, max_prime = j-i, n\n",
    "                break\n",
    "    #return terms, max_prime\n",
    "    return max_prime\n",
    "\n",
    "print(consecutive_prime_sum(1000000))\n",
    "                "
   ]
  },
  {
   "cell_type": "markdown",
   "metadata": {},
   "source": [
    "## Problem 52\n",
    "### Permuted multiples\n",
    "\n",
    "It can be seen that the number, 125874, and its double, 251748, contain exactly the same digits, but in a different order.\n",
    "\n",
    "Find the smallest positive integer, x, such that 2x, 3x, 4x, 5x, and 6x, contain the same digits."
   ]
  },
  {
   "cell_type": "code",
   "execution_count": 11,
   "metadata": {
    "collapsed": false
   },
   "outputs": [
    {
     "name": "stdout",
     "output_type": "stream",
     "text": [
      "142857\n"
     ]
    }
   ],
   "source": [
    "def permuted_multiples():\n",
    "    result = None\n",
    "    for i in range(100000, 200000):\n",
    "        comp = sorted(list(str(i)))\n",
    "        success = True\n",
    "        for mult in range(2, 7):\n",
    "            if sorted(list(str(i * mult))) != comp:\n",
    "                success = False\n",
    "        if success:\n",
    "            return i\n",
    "\n",
    "print(permuted_multiples())\n",
    "        \n",
    "        "
   ]
  },
  {
   "cell_type": "markdown",
   "metadata": {
    "collapsed": false
   },
   "source": [
    "## Problem 67\n",
    "### Maximum path sum II\n",
    "\n",
    "__This is the same as Problem 18, so the code it reused.__\n",
    "\n",
    "By starting at the top of the triangle below and moving to adjacent numbers on the row below, the maximum total from top to bottom is 23.\n",
    "\n",
    "3\n",
    "7 4\n",
    "2 4 6\n",
    "8 5 9 3\n",
    "\n",
    "That is, 3 + 7 + 4 + 9 = 23.\n",
    "\n",
    "Find the maximum total from top to bottom in triangle.txt, a 15K text file containing a triangle with one-hundred rows."
   ]
  },
  {
   "cell_type": "code",
   "execution_count": 38,
   "metadata": {
    "collapsed": false
   },
   "outputs": [
    {
     "name": "stdout",
     "output_type": "stream",
     "text": [
      "7273\n"
     ]
    }
   ],
   "source": [
    "\n",
    "with open('p067_triangle.txt') as f:\n",
    "    print(maximum_path_sum([[int(n) for n in s.split()] for s in f.readlines()]))"
   ]
  },
  {
   "cell_type": "code",
   "execution_count": null,
   "metadata": {
    "collapsed": true
   },
   "outputs": [],
   "source": []
  }
 ],
 "metadata": {
  "kernelspec": {
   "display_name": "Python 3",
   "language": "python",
   "name": "python3"
  },
  "language_info": {
   "codemirror_mode": {
    "name": "ipython",
    "version": 3
   },
   "file_extension": ".py",
   "mimetype": "text/x-python",
   "name": "python",
   "nbconvert_exporter": "python",
   "pygments_lexer": "ipython3",
   "version": "3.5.1"
  }
 },
 "nbformat": 4,
 "nbformat_minor": 0
}
